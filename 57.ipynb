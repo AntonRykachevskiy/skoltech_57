{
 "cells": [
  {
   "cell_type": "code",
   "execution_count": 1,
   "metadata": {
    "collapsed": false
   },
   "outputs": [],
   "source": [
    "import pandas as pd\n",
    "import numpy as np\n",
    "import matplotlib.pyplot as plt"
   ]
  },
  {
   "cell_type": "code",
   "execution_count": 2,
   "metadata": {
    "collapsed": false
   },
   "outputs": [],
   "source": [
    "data = pd.read_csv('all_data.csv')"
   ]
  },
  {
   "cell_type": "markdown",
   "metadata": {},
   "source": [
    "Исследуем данные."
   ]
  },
  {
   "cell_type": "code",
   "execution_count": 4,
   "metadata": {
    "collapsed": false,
    "scrolled": true
   },
   "outputs": [
    {
     "name": "stdout",
     "output_type": "stream",
     "text": [
      "пациентов: 129\n",
      "признаков: 108\n"
     ]
    }
   ],
   "source": [
    "print \"пациентов: {0}\".format(data.shape[0])\n",
    "print \"признаков: {0}\".format(data.shape[1])"
   ]
  },
  {
   "cell_type": "markdown",
   "metadata": {},
   "source": [
    "Это тот набор фичей, который выделил врач, который предоставил данные. <br\\>\n",
    "Если я все правильно понимаю, нужно научиться выбирать правильную первую линию ХТ (\"Схема лечения (1 линия ХТ)\") <br>\n",
    "Характеристикой качества работы лечения видимо выступает время жизни пациентов (от наблюдения до момента закрытия карты), эти данные не обновлены. <br>\n",
    "Перевая линия ХТ прописана у 24 пациентов из 129, у остальных пропуски. <br>\n"
   ]
  },
  {
   "cell_type": "code",
   "execution_count": 24,
   "metadata": {
    "collapsed": true
   },
   "outputs": [],
   "source": [
    "main_features = [\n",
    "    \"Код\",\n",
    "    \"Возраст\",\n",
    "    \"Пол\",\n",
    "    \"Дата установления диагноза\",\n",
    "    \"Сопутствующая патология\",\n",
    "    \"Стадия\",\n",
    "    \"Желчеразгрузочная операция\",\n",
    "    \"Дата желчеразгрузочной операции\",\n",
    "    \"Гистология опухоли (до лечения)\",\n",
    "    \"ECOG (до лечения)\",\n",
    "    \"Вес (до лечения)\",\n",
    "    \"ИМТ (до лечения)\",\n",
    "    \"Общ белок (до лечения)\",\n",
    "    \"АЛТ (до лечения)\",\n",
    "    \"АСТ (до лечения)\",\n",
    "    \"ЛДГ (до лечения)\",\n",
    "    \"CA 19-9 (до лечения)\",\n",
    "    \"РЭA (до лечения)\",\n",
    "    \"Схема лечения (1 линия ХТ)\",\n",
    "    \"Дата начала (1 линия ХТ)\",\n",
    "    \"Диагноз (обновленный\",\n",
    "    \"Дата последнего наблюдения\",\n",
    "    \"Карта закрыта\"\n",
    "]"
   ]
  },
  {
   "cell_type": "code",
   "execution_count": 25,
   "metadata": {
    "collapsed": false
   },
   "outputs": [],
   "source": [
    "main_data = data[main_features]"
   ]
  },
  {
   "cell_type": "markdown",
   "metadata": {},
   "source": [
    "Вот так выглядит статистика по первой линии ХТ, т.е. два основных препарата, пропусков 82%"
   ]
  },
  {
   "cell_type": "code",
   "execution_count": 26,
   "metadata": {
    "collapsed": false,
    "scrolled": true
   },
   "outputs": [
    {
     "data": {
      "text/plain": [
       "Gemcitabin                                                                                                                                                     8\n",
       "FOLFIRINOX                                                                                                                                                     8\n",
       "FOLFOX                                                                                                                                                         2\n",
       "гемзар                                                                                                                                                         1\n",
       "Gemcitabin + cisplatin                                                                                                                                         1\n",
       "Gemcitabin + паклитаксел                                                                                                                                       1\n",
       "AF                                                                                                                                                             1\n",
       "Gemcitabin + Docetaxel                                                                                                                                         1\n",
       "Учитывая стадию заболевания, морфологическую структуру опухоли, радикальность выполненной операции - в настоящее время проведение химиотерапии не показано.    1\n",
       "Name: Схема лечения (1 линия ХТ), dtype: int64"
      ]
     },
     "execution_count": 26,
     "metadata": {},
     "output_type": "execute_result"
    }
   ],
   "source": [
    "main_data['Схема лечения (1 линия ХТ)'].value_counts()"
   ]
  },
  {
   "cell_type": "markdown",
   "metadata": {},
   "source": [
    "# Выделим целевую переменную для тех, для кого известна первая линия ХТ"
   ]
  },
  {
   "cell_type": "code",
   "execution_count": 71,
   "metadata": {
    "collapsed": true
   },
   "outputs": [],
   "source": [
    "main_data = main_data.rename(columns={'Дата последнего наблюдения': 'last_date',\n",
    "                                      'Дата установления диагноза': 'first_date',\n",
    "                                      'Карта закрыта': 'closed',\n",
    "                                     })"
   ]
  },
  {
   "cell_type": "code",
   "execution_count": 181,
   "metadata": {
    "collapsed": true
   },
   "outputs": [],
   "source": [
    "def create_mask(column_name):\n",
    "    anti_mask = np.array(main_data[column_name].isnull())\n",
    "    mask = np.logical_not(anti_mask)\n",
    "    return mask"
   ]
  },
  {
   "cell_type": "code",
   "execution_count": 147,
   "metadata": {
    "collapsed": false
   },
   "outputs": [],
   "source": [
    "anti_healing_mask = np.array(main_data['Схема лечения (1 линия ХТ)'].isnull())\n",
    "healing_mask = np.logical_not(anti_healing_mask)"
   ]
  },
  {
   "cell_type": "code",
   "execution_count": 182,
   "metadata": {
    "collapsed": true
   },
   "outputs": [],
   "source": [
    "healing_mask = create_mask('Схема лечения (1 линия ХТ)')\n",
    "first_date_mask = create_mask('first_date')\n",
    "last_date_mask = create_mask('last_date')"
   ]
  },
  {
   "cell_type": "code",
   "execution_count": 183,
   "metadata": {
    "collapsed": false
   },
   "outputs": [],
   "source": [
    "mask = np.logical_and(healing_mask,last_date_mask)"
   ]
  },
  {
   "cell_type": "code",
   "execution_count": 180,
   "metadata": {
    "collapsed": true
   },
   "outputs": [
    {
     "data": {
      "text/plain": [
       "0       True\n",
       "1       True\n",
       "2       True\n",
       "3      False\n",
       "9      False\n",
       "21     False\n",
       "22     False\n",
       "30     False\n",
       "41     False\n",
       "54     False\n",
       "62     False\n",
       "71     False\n",
       "79     False\n",
       "81      True\n",
       "93     False\n",
       "96     False\n",
       "98     False\n",
       "99     False\n",
       "105    False\n",
       "108    False\n",
       "117    False\n",
       "118    False\n",
       "126    False\n",
       "128     True\n",
       "Name: last_date, dtype: bool"
      ]
     },
     "execution_count": 180,
     "metadata": {},
     "output_type": "execute_result"
    }
   ],
   "source": [
    "main_data[last_date_mask].loc[:,'last_date'].isnull()"
   ]
  },
  {
   "cell_type": "code",
   "execution_count": 184,
   "metadata": {
    "collapsed": true
   },
   "outputs": [
    {
     "data": {
      "text/plain": [
       "3      16.07.16 00:00\n",
       "9      10.04.15 00:00\n",
       "21     17.05.16 00:00\n",
       "22     03.06.15 00:00\n",
       "30     29.12.15 00:00\n",
       "41     03.02.15 00:00\n",
       "54     30.12.15 00:00\n",
       "62     13.08.15 00:00\n",
       "71     26.08.15 00:00\n",
       "79     07.10.15 00:00\n",
       "93     28.03.16 00:00\n",
       "96     11.03.15 00:00\n",
       "98     31.07.15 00:00\n",
       "99     22.03.16 00:00\n",
       "105    06.11.15 00:00\n",
       "108    16.06.15 00:00\n",
       "117    08.06.15 00:00\n",
       "118    09.05.16 00:00\n",
       "126    06.03.15 00:00\n",
       "Name: last_date, dtype: object"
      ]
     },
     "execution_count": 184,
     "metadata": {},
     "output_type": "execute_result"
    }
   ],
   "source": [
    "main_data[mask]['last_date']"
   ]
  },
  {
   "cell_type": "code",
   "execution_count": 32,
   "metadata": {
    "collapsed": false
   },
   "outputs": [],
   "source": [
    "main_data[mask].to_csv('raw_masked.csv')"
   ]
  },
  {
   "cell_type": "markdown",
   "metadata": {},
   "source": [
    " Превратим строки в даты посчитаем всякие разности."
   ]
  },
  {
   "cell_type": "code",
   "execution_count": 153,
   "metadata": {
    "collapsed": false
   },
   "outputs": [
    {
     "data": {
      "text/plain": [
       "str"
      ]
     },
     "execution_count": 153,
     "metadata": {},
     "output_type": "execute_result"
    }
   ],
   "source": [
    "type(main_data[mask]['first_date'][0])"
   ]
  },
  {
   "cell_type": "code",
   "execution_count": 154,
   "metadata": {
    "collapsed": false
   },
   "outputs": [],
   "source": [
    "from datetime import datetime\n",
    "\n",
    "def dt_from_str(date_time_string):\n",
    "    if date_time_string is not np.nan:\n",
    "        return datetime.strptime(date_time_string, '%d.%m.%y %H:%M')\n",
    "    else:\n",
    "        return np.nan"
   ]
  },
  {
   "cell_type": "code",
   "execution_count": 188,
   "metadata": {
    "collapsed": false,
    "scrolled": true
   },
   "outputs": [],
   "source": [
    "first_date = np.array(map(dt_from_str, main_data[mask]['first_date']))\n",
    "last_date = np.array(map(dt_from_str, main_data[mask]['last_date']))\n"
   ]
  },
  {
   "cell_type": "markdown",
   "metadata": {},
   "source": [
    "### Времена жизни"
   ]
  },
  {
   "cell_type": "code",
   "execution_count": 204,
   "metadata": {
    "collapsed": false,
    "scrolled": true
   },
   "outputs": [
    {
     "data": {
      "text/plain": [
       "array([datetime.timedelta(326), datetime.timedelta(212),\n",
       "       datetime.timedelta(783), datetime.timedelta(117),\n",
       "       datetime.timedelta(5), datetime.timedelta(12),\n",
       "       datetime.timedelta(142), datetime.timedelta(3),\n",
       "       datetime.timedelta(79), datetime.timedelta(379),\n",
       "       datetime.timedelta(383), datetime.timedelta(8),\n",
       "       datetime.timedelta(14), datetime.timedelta(517),\n",
       "       datetime.timedelta(29), datetime.timedelta(252),\n",
       "       datetime.timedelta(74), datetime.timedelta(146),\n",
       "       datetime.timedelta(29)], dtype=object)"
      ]
     },
     "execution_count": 204,
     "metadata": {},
     "output_type": "execute_result"
    }
   ],
   "source": [
    "(last_date - first_date)"
   ]
  },
  {
   "cell_type": "code",
   "execution_count": 140,
   "metadata": {
    "collapsed": false
   },
   "outputs": [
    {
     "data": {
      "text/plain": [
       "datetime.datetime"
      ]
     },
     "execution_count": 140,
     "metadata": {},
     "output_type": "execute_result"
    }
   ],
   "source": [
    "type(last_date[0])"
   ]
  },
  {
   "cell_type": "code",
   "execution_count": 195,
   "metadata": {
    "collapsed": false
   },
   "outputs": [
    {
     "data": {
      "text/plain": [
       "Gemcitabin                                                                                                                                                     8\n",
       "FOLFIRINOX                                                                                                                                                     4\n",
       "FOLFOX                                                                                                                                                         2\n",
       "гемзар                                                                                                                                                         1\n",
       "Gemcitabin + паклитаксел                                                                                                                                       1\n",
       "AF                                                                                                                                                             1\n",
       "Gemcitabin + Docetaxel                                                                                                                                         1\n",
       "Учитывая стадию заболевания, морфологическую структуру опухоли, радикальность выполненной операции - в настоящее время проведение химиотерапии не показано.    1\n",
       "Name: Схема лечения (1 линия ХТ), dtype: int64"
      ]
     },
     "execution_count": 195,
     "metadata": {},
     "output_type": "execute_result"
    }
   ],
   "source": [
    "main_data[mask]['Схема лечения (1 линия ХТ)'].value_counts()"
   ]
  },
  {
   "cell_type": "code",
   "execution_count": 200,
   "metadata": {
    "collapsed": false
   },
   "outputs": [
    {
     "data": {
      "text/html": [
       "<div>\n",
       "<table border=\"1\" class=\"dataframe\">\n",
       "  <thead>\n",
       "    <tr style=\"text-align: right;\">\n",
       "      <th></th>\n",
       "      <th>Код</th>\n",
       "      <th>Возраст</th>\n",
       "      <th>Пол</th>\n",
       "      <th>first_date</th>\n",
       "      <th>Сопутствующая патология</th>\n",
       "      <th>Стадия</th>\n",
       "      <th>Желчеразгрузочная операция</th>\n",
       "      <th>Дата желчеразгрузочной операции</th>\n",
       "      <th>Гистология опухоли (до лечения)</th>\n",
       "      <th>ECOG (до лечения)</th>\n",
       "      <th>...</th>\n",
       "      <th>АЛТ (до лечения)</th>\n",
       "      <th>АСТ (до лечения)</th>\n",
       "      <th>ЛДГ (до лечения)</th>\n",
       "      <th>CA 19-9 (до лечения)</th>\n",
       "      <th>РЭA (до лечения)</th>\n",
       "      <th>Схема лечения (1 линия ХТ)</th>\n",
       "      <th>Дата начала (1 линия ХТ)</th>\n",
       "      <th>Диагноз (обновленный</th>\n",
       "      <th>last_date</th>\n",
       "      <th>closed</th>\n",
       "    </tr>\n",
       "  </thead>\n",
       "  <tbody>\n",
       "    <tr>\n",
       "      <th>3</th>\n",
       "      <td>5</td>\n",
       "      <td>60</td>\n",
       "      <td>Ж</td>\n",
       "      <td>25.08.15 00:00</td>\n",
       "      <td>нет</td>\n",
       "      <td>не установлена</td>\n",
       "      <td>нет</td>\n",
       "      <td>NaN</td>\n",
       "      <td>умереннодифференцированная протоковая аденокар...</td>\n",
       "      <td>1</td>\n",
       "      <td>...</td>\n",
       "      <td>8,9</td>\n",
       "      <td>15,1</td>\n",
       "      <td>380</td>\n",
       "      <td>264</td>\n",
       "      <td>7</td>\n",
       "      <td>FOLFIRINOX</td>\n",
       "      <td>08.10.15 00:00</td>\n",
       "      <td>Сочетанное поражение</td>\n",
       "      <td>16.07.16 00:00</td>\n",
       "      <td>False</td>\n",
       "    </tr>\n",
       "    <tr>\n",
       "      <th>9</th>\n",
       "      <td>11</td>\n",
       "      <td>66</td>\n",
       "      <td>Ж</td>\n",
       "      <td>10.09.14 00:00</td>\n",
       "      <td>Сахарный диабет 2 типа</td>\n",
       "      <td>не установлена</td>\n",
       "      <td>не было</td>\n",
       "      <td>NaN</td>\n",
       "      <td>умереннодифференцированная аденокарцинома</td>\n",
       "      <td>1</td>\n",
       "      <td>...</td>\n",
       "      <td>13</td>\n",
       "      <td>16</td>\n",
       "      <td>NaN</td>\n",
       "      <td>12245</td>\n",
       "      <td>6</td>\n",
       "      <td>Gemcitabin</td>\n",
       "      <td>27.11.14 00:00</td>\n",
       "      <td>Рак хвоста</td>\n",
       "      <td>10.04.15 00:00</td>\n",
       "      <td>True</td>\n",
       "    </tr>\n",
       "    <tr>\n",
       "      <th>21</th>\n",
       "      <td>23</td>\n",
       "      <td>50</td>\n",
       "      <td>М</td>\n",
       "      <td>26.03.14 00:00</td>\n",
       "      <td>ГБ 2ст. Сах. Диабет 2 типа, хронич панкреотит</td>\n",
       "      <td>IIb</td>\n",
       "      <td>NaN</td>\n",
       "      <td>NaN</td>\n",
       "      <td>умереннодифф аденокорценома, без признаков опу...</td>\n",
       "      <td>2</td>\n",
       "      <td>...</td>\n",
       "      <td>20</td>\n",
       "      <td>20</td>\n",
       "      <td>NaN</td>\n",
       "      <td>10</td>\n",
       "      <td>NaN</td>\n",
       "      <td>Gemcitabin</td>\n",
       "      <td>04.04.14 00:00</td>\n",
       "      <td>Рак головки</td>\n",
       "      <td>17.05.16 00:00</td>\n",
       "      <td>False</td>\n",
       "    </tr>\n",
       "    <tr>\n",
       "      <th>22</th>\n",
       "      <td>24</td>\n",
       "      <td>55</td>\n",
       "      <td>М</td>\n",
       "      <td>06.02.15 00:00</td>\n",
       "      <td>Рак головки поджелудочной железы pT4NxM1,  MTS...</td>\n",
       "      <td>не установлена</td>\n",
       "      <td>NaN</td>\n",
       "      <td>NaN</td>\n",
       "      <td>ткань печени - аденокорценома протокового типа</td>\n",
       "      <td>2</td>\n",
       "      <td>...</td>\n",
       "      <td>4,1</td>\n",
       "      <td>6,5</td>\n",
       "      <td>NaN</td>\n",
       "      <td>NaN</td>\n",
       "      <td>NaN</td>\n",
       "      <td>FOLFOX</td>\n",
       "      <td>06.03.15 00:00</td>\n",
       "      <td>NaN</td>\n",
       "      <td>03.06.15 00:00</td>\n",
       "      <td>False</td>\n",
       "    </tr>\n",
       "    <tr>\n",
       "      <th>30</th>\n",
       "      <td>32</td>\n",
       "      <td>67</td>\n",
       "      <td>М</td>\n",
       "      <td>24.12.15 00:00</td>\n",
       "      <td>NaN</td>\n",
       "      <td>III</td>\n",
       "      <td>NaN</td>\n",
       "      <td>NaN</td>\n",
       "      <td>умереннодифференцированная аденокарцинома (опу...</td>\n",
       "      <td>1</td>\n",
       "      <td>...</td>\n",
       "      <td>46</td>\n",
       "      <td>46</td>\n",
       "      <td>224</td>\n",
       "      <td>NaN</td>\n",
       "      <td>NaN</td>\n",
       "      <td>FOLFOX</td>\n",
       "      <td>10.11.15 00:00</td>\n",
       "      <td>Рак головки</td>\n",
       "      <td>29.12.15 00:00</td>\n",
       "      <td>False</td>\n",
       "    </tr>\n",
       "  </tbody>\n",
       "</table>\n",
       "<p>5 rows × 23 columns</p>\n",
       "</div>"
      ],
      "text/plain": [
       "    Код  Возраст Пол      first_date  \\\n",
       "3     5       60   Ж  25.08.15 00:00   \n",
       "9    11       66   Ж  10.09.14 00:00   \n",
       "21   23       50   М  26.03.14 00:00   \n",
       "22   24       55   М  06.02.15 00:00   \n",
       "30   32       67   М  24.12.15 00:00   \n",
       "\n",
       "                              Сопутствующая патология          Стадия  \\\n",
       "3                                                 нет  не установлена   \n",
       "9                              Сахарный диабет 2 типа  не установлена   \n",
       "21      ГБ 2ст. Сах. Диабет 2 типа, хронич панкреотит             IIb   \n",
       "22  Рак головки поджелудочной железы pT4NxM1,  MTS...  не установлена   \n",
       "30                                                NaN             III   \n",
       "\n",
       "   Желчеразгрузочная операция Дата желчеразгрузочной операции  \\\n",
       "3                         нет                             NaN   \n",
       "9                     не было                             NaN   \n",
       "21                        NaN                             NaN   \n",
       "22                        NaN                             NaN   \n",
       "30                        NaN                             NaN   \n",
       "\n",
       "                      Гистология опухоли (до лечения)  ECOG (до лечения)  \\\n",
       "3   умереннодифференцированная протоковая аденокар...                  1   \n",
       "9           умереннодифференцированная аденокарцинома                  1   \n",
       "21  умереннодифф аденокорценома, без признаков опу...                  2   \n",
       "22     ткань печени - аденокорценома протокового типа                  2   \n",
       "30  умереннодифференцированная аденокарцинома (опу...                  1   \n",
       "\n",
       "    ...    АЛТ (до лечения) АСТ (до лечения) ЛДГ (до лечения)  \\\n",
       "3   ...                 8,9             15,1              380   \n",
       "9   ...                  13               16              NaN   \n",
       "21  ...                  20               20              NaN   \n",
       "22  ...                 4,1              6,5              NaN   \n",
       "30  ...                  46               46              224   \n",
       "\n",
       "   CA 19-9 (до лечения) РЭA (до лечения) Схема лечения (1 линия ХТ)  \\\n",
       "3                   264                7                 FOLFIRINOX   \n",
       "9                 12245                6                 Gemcitabin   \n",
       "21                   10              NaN                 Gemcitabin   \n",
       "22                  NaN              NaN                     FOLFOX   \n",
       "30                  NaN              NaN                     FOLFOX   \n",
       "\n",
       "    Дата начала (1 линия ХТ)  Диагноз (обновленный       last_date closed  \n",
       "3             08.10.15 00:00  Сочетанное поражение  16.07.16 00:00  False  \n",
       "9             27.11.14 00:00            Рак хвоста  10.04.15 00:00   True  \n",
       "21            04.04.14 00:00           Рак головки  17.05.16 00:00  False  \n",
       "22            06.03.15 00:00                   NaN  03.06.15 00:00  False  \n",
       "30            10.11.15 00:00           Рак головки  29.12.15 00:00  False  \n",
       "\n",
       "[5 rows x 23 columns]"
      ]
     },
     "execution_count": 200,
     "metadata": {},
     "output_type": "execute_result"
    }
   ],
   "source": [
    "main_data[mask].head()"
   ]
  },
  {
   "cell_type": "code",
   "execution_count": null,
   "metadata": {
    "collapsed": true
   },
   "outputs": [],
   "source": []
  },
  {
   "cell_type": "code",
   "execution_count": null,
   "metadata": {
    "collapsed": true
   },
   "outputs": [],
   "source": []
  },
  {
   "cell_type": "code",
   "execution_count": null,
   "metadata": {
    "collapsed": true
   },
   "outputs": [],
   "source": []
  },
  {
   "cell_type": "code",
   "execution_count": 86,
   "metadata": {
    "collapsed": true
   },
   "outputs": [
    {
     "name": "stdout",
     "output_type": "stream",
     "text": [
      "Код:                             0.0%\n",
      "Возраст:                         0.046511627907%\n",
      "Пол:                             0.0%\n",
      "Дата установления диагноза:      0.062015503876%\n",
      "Сопутствующая патология:         0.232558139535%\n",
      "Стадия:                          0.0697674418605%\n",
      "Желчеразгрузочная операция:      0.62015503876%\n",
      "Дата желчеразгрузочной операции:  0.651162790698%\n",
      "Гистология опухоли (до лечения):  0.348837209302%\n",
      "ECOG (до лечения):                  0.093023255814%\n",
      "Вес (до лечения):                 0.077519379845%\n",
      "ИМТ (до лечения):                 0.093023255814%\n",
      "Общ белок (до лечения):           0.077519379845%\n",
      "АЛТ (до лечения):                 0.093023255814%\n",
      "АСТ (до лечения):                 0.093023255814%\n",
      "ЛДГ (до лечения):                 0.961240310078%\n",
      "CA 19-9 (до лечения):                0.759689922481%\n",
      "РЭA (до лечения):                  0.790697674419%\n",
      "Схема лечения (1 линия ХТ):        0.813953488372%\n",
      "Дата начала (1 линия ХТ):          0.813953488372%\n",
      "Диагноз (обновленный:             0.139534883721%\n"
     ]
    }
   ],
   "source": [
    "for col in main_data.columns:\n",
    "    print \"{0}: {1} {2}%\".format(col, (30 - (len(col) +  col.count(' '))/2)*\" \", 1 - float(main_data[col].count()) / main_data[col].size)"
   ]
  },
  {
   "cell_type": "code",
   "execution_count": 19,
   "metadata": {
    "collapsed": false
   },
   "outputs": [],
   "source": [
    "anti_mask = np.array(main_data['Схема лечения (1 линия ХТ)'].isnull())\n",
    "mask = np.logical_not(anti_mask)"
   ]
  },
  {
   "cell_type": "markdown",
   "metadata": {},
   "source": [
    "Вот так выглядят пропуски, в той части данных где целевая переменная не пропуск"
   ]
  },
  {
   "cell_type": "code",
   "execution_count": 129,
   "metadata": {
    "collapsed": false,
    "scrolled": true
   },
   "outputs": [
    {
     "name": "stdout",
     "output_type": "stream",
     "text": [
      "Код:                             0.0%\n",
      "Возраст:                         0.0%\n",
      "Пол:                             0.0%\n",
      "Дата установления диагноза:      0.0%\n",
      "Сопутствующая патология:         0.25%\n",
      "Стадия:                          0.0%\n",
      "Желчеразгрузочная операция:      0.5%\n",
      "Дата желчеразгрузочной операции:  0.583333333333%\n",
      "Гистология опухоли (до лечения):  0.166666666667%\n",
      "ECOG (до лечения):                  0.0%\n",
      "Вес (до лечения):                 0.0%\n",
      "ИМТ (до лечения):                 0.0%\n",
      "Общ белок (до лечения):           0.0%\n",
      "АЛТ (до лечения):                 0.0833333333333%\n",
      "АСТ (до лечения):                 0.0833333333333%\n",
      "ЛДГ (до лечения):                 0.833333333333%\n",
      "CA 19-9 (до лечения):                0.25%\n",
      "РЭA (до лечения):                  0.375%\n",
      "Схема лечения (1 линия ХТ):        0.0%\n",
      "Дата начала (1 линия ХТ):          0.0416666666667%\n",
      "Диагноз (обновленный:             0.166666666667%\n"
     ]
    }
   ],
   "source": [
    "for col in main_data[mask].columns:\n",
    "     print \"{0}: {1} {2}%\".format(col, (30 - (len(col) +  col.count(' '))/2)*\" \", 1 - float(main_data[mask][col].count()) / main_data[mask][col].size)"
   ]
  },
  {
   "cell_type": "code",
   "execution_count": null,
   "metadata": {
    "collapsed": true
   },
   "outputs": [],
   "source": []
  }
 ],
 "metadata": {
  "kernelspec": {
   "display_name": "Python 2",
   "language": "python",
   "name": "python2"
  },
  "language_info": {
   "codemirror_mode": {
    "name": "ipython",
    "version": 2
   },
   "file_extension": ".py",
   "mimetype": "text/x-python",
   "name": "python",
   "nbconvert_exporter": "python",
   "pygments_lexer": "ipython2",
   "version": "2.7.11"
  }
 },
 "nbformat": 4,
 "nbformat_minor": 0
}
