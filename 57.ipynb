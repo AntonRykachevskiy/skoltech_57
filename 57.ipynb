{
 "cells": [
  {
   "cell_type": "code",
   "execution_count": 2,
   "metadata": {
    "collapsed": false
   },
   "outputs": [],
   "source": [
    "import pandas as pd\n",
    "import numpy as np\n",
    "import matplotlib.pyplot as plt"
   ]
  },
  {
   "cell_type": "code",
   "execution_count": 3,
   "metadata": {
    "collapsed": false
   },
   "outputs": [],
   "source": [
    "data = pd.read_csv('all_data.csv')"
   ]
  },
  {
   "cell_type": "code",
   "execution_count": 4,
   "metadata": {
    "collapsed": false,
    "scrolled": true
   },
   "outputs": [
    {
     "data": {
      "text/html": [
       "<div>\n",
       "<table border=\"1\" class=\"dataframe\">\n",
       "  <thead>\n",
       "    <tr style=\"text-align: right;\">\n",
       "      <th></th>\n",
       "      <th>Unnamed: 0</th>\n",
       "      <th>Дата рождения</th>\n",
       "      <th>Возраст</th>\n",
       "      <th>Пол</th>\n",
       "      <th>ECOG (до лечения)</th>\n",
       "      <th>Дата биопсии (при пункции/при лапароскопии)</th>\n",
       "      <th>Основной диагноз</th>\n",
       "      <th>Сопутствующая патология</th>\n",
       "      <th>T</th>\n",
       "      <th>N</th>\n",
       "      <th>...</th>\n",
       "      <th>ECOG (до АДХТ)</th>\n",
       "      <th>Вес (до АХТ)</th>\n",
       "      <th>Потеря веса (от момента НАХТ до АДХТ)</th>\n",
       "      <th>ИМТ (до АДХТ)</th>\n",
       "      <th>Общ белок (до АДХТ)</th>\n",
       "      <th>АЛТ (до АДХТ)</th>\n",
       "      <th>АСТ (до АДХТ)</th>\n",
       "      <th>ЛДГ (до АДХТ)</th>\n",
       "      <th>Диагноз (обновленный</th>\n",
       "      <th>Гистология (обновленная)</th>\n",
       "    </tr>\n",
       "  </thead>\n",
       "  <tbody>\n",
       "    <tr>\n",
       "      <th>0</th>\n",
       "      <td>0</td>\n",
       "      <td>07.08.55 00:00</td>\n",
       "      <td>59</td>\n",
       "      <td>М</td>\n",
       "      <td>1</td>\n",
       "      <td>12.02.15 00:00</td>\n",
       "      <td>ПММР. Рак головки поджелудочной железы. Рак мо...</td>\n",
       "      <td>Менингиома головного мозга.</td>\n",
       "      <td>T3</td>\n",
       "      <td>Nx</td>\n",
       "      <td>...</td>\n",
       "      <td>1</td>\n",
       "      <td>82</td>\n",
       "      <td>0</td>\n",
       "      <td>25,9</td>\n",
       "      <td>66</td>\n",
       "      <td>100</td>\n",
       "      <td>46</td>\n",
       "      <td>559</td>\n",
       "      <td>Рак головки</td>\n",
       "      <td>NaN</td>\n",
       "    </tr>\n",
       "    <tr>\n",
       "      <th>1</th>\n",
       "      <td>1</td>\n",
       "      <td>01.01.45 00:00</td>\n",
       "      <td>70</td>\n",
       "      <td>Ж</td>\n",
       "      <td>2</td>\n",
       "      <td>14.09.15 00:00</td>\n",
       "      <td>Рак головки поджелудочной железы T3N1M0. Состо...</td>\n",
       "      <td>ИБС. Атеросклеротический кардиосклероз. Гиперт...</td>\n",
       "      <td>T3</td>\n",
       "      <td>N1</td>\n",
       "      <td>...</td>\n",
       "      <td>NaN</td>\n",
       "      <td>NaN</td>\n",
       "      <td>NaN</td>\n",
       "      <td>NaN</td>\n",
       "      <td>NaN</td>\n",
       "      <td>NaN</td>\n",
       "      <td>NaN</td>\n",
       "      <td>NaN</td>\n",
       "      <td>Рак головки</td>\n",
       "      <td>NaN</td>\n",
       "    </tr>\n",
       "    <tr>\n",
       "      <th>2</th>\n",
       "      <td>2</td>\n",
       "      <td>30.12.99 00:00</td>\n",
       "      <td>61</td>\n",
       "      <td>М</td>\n",
       "      <td>2</td>\n",
       "      <td>08.09.15 00:00</td>\n",
       "      <td>Рак тела поджелудочной железы T4NXM0 Стадия: н...</td>\n",
       "      <td>Инсульт геморагический. Ущемленная пупочная гр...</td>\n",
       "      <td>T4</td>\n",
       "      <td>Nx</td>\n",
       "      <td>...</td>\n",
       "      <td>NaN</td>\n",
       "      <td>NaN</td>\n",
       "      <td>NaN</td>\n",
       "      <td>NaN</td>\n",
       "      <td>NaN</td>\n",
       "      <td>NaN</td>\n",
       "      <td>NaN</td>\n",
       "      <td>NaN</td>\n",
       "      <td>Рак тела</td>\n",
       "      <td>NaN</td>\n",
       "    </tr>\n",
       "    <tr>\n",
       "      <th>3</th>\n",
       "      <td>3</td>\n",
       "      <td>29.03.55 00:00</td>\n",
       "      <td>60</td>\n",
       "      <td>Ж</td>\n",
       "      <td>1</td>\n",
       "      <td>22.09.15 00:00</td>\n",
       "      <td>рак тела и хвоста поджелудочной железы</td>\n",
       "      <td>нет</td>\n",
       "      <td>T3</td>\n",
       "      <td>Nx</td>\n",
       "      <td>...</td>\n",
       "      <td>NaN</td>\n",
       "      <td>NaN</td>\n",
       "      <td>NaN</td>\n",
       "      <td>NaN</td>\n",
       "      <td>NaN</td>\n",
       "      <td>NaN</td>\n",
       "      <td>NaN</td>\n",
       "      <td>NaN</td>\n",
       "      <td>Сочетанное поражение</td>\n",
       "      <td>NaN</td>\n",
       "    </tr>\n",
       "    <tr>\n",
       "      <th>4</th>\n",
       "      <td>4</td>\n",
       "      <td>16.04.47 00:00</td>\n",
       "      <td>68</td>\n",
       "      <td>Ж</td>\n",
       "      <td>1</td>\n",
       "      <td>09.10.15 00:00</td>\n",
       "      <td>Рак головки поджелудочной железы сT4N1M0</td>\n",
       "      <td>Гипертоническая болезнь сердца</td>\n",
       "      <td>T4</td>\n",
       "      <td>N1</td>\n",
       "      <td>...</td>\n",
       "      <td>NaN</td>\n",
       "      <td>NaN</td>\n",
       "      <td>NaN</td>\n",
       "      <td>NaN</td>\n",
       "      <td>NaN</td>\n",
       "      <td>NaN</td>\n",
       "      <td>NaN</td>\n",
       "      <td>NaN</td>\n",
       "      <td>Рак головки</td>\n",
       "      <td>NaN</td>\n",
       "    </tr>\n",
       "  </tbody>\n",
       "</table>\n",
       "<p>5 rows × 108 columns</p>\n",
       "</div>"
      ],
      "text/plain": [
       "   Unnamed: 0   Дата рождения  Возраст Пол  ECOG (до лечения)  \\\n",
       "0           0  07.08.55 00:00       59   М                  1   \n",
       "1           1  01.01.45 00:00       70   Ж                  2   \n",
       "2           2  30.12.99 00:00       61   М                  2   \n",
       "3           3  29.03.55 00:00       60   Ж                  1   \n",
       "4           4  16.04.47 00:00       68   Ж                  1   \n",
       "\n",
       "  Дата биопсии (при пункции/при лапароскопии)  \\\n",
       "0                              12.02.15 00:00   \n",
       "1                              14.09.15 00:00   \n",
       "2                              08.09.15 00:00   \n",
       "3                              22.09.15 00:00   \n",
       "4                              09.10.15 00:00   \n",
       "\n",
       "                                    Основной диагноз  \\\n",
       "0  ПММР. Рак головки поджелудочной железы. Рак мо...   \n",
       "1  Рак головки поджелудочной железы T3N1M0. Состо...   \n",
       "2  Рак тела поджелудочной железы T4NXM0 Стадия: н...   \n",
       "3             рак тела и хвоста поджелудочной железы   \n",
       "4           Рак головки поджелудочной железы сT4N1M0   \n",
       "\n",
       "                             Сопутствующая патология   T   N  \\\n",
       "0                        Менингиома головного мозга.  T3  Nx   \n",
       "1  ИБС. Атеросклеротический кардиосклероз. Гиперт...  T3  N1   \n",
       "2  Инсульт геморагический. Ущемленная пупочная гр...  T4  Nx   \n",
       "3                                                нет  T3  Nx   \n",
       "4                     Гипертоническая болезнь сердца  T4  N1   \n",
       "\n",
       "            ...            ECOG (до АДХТ) Вес (до АХТ)  \\\n",
       "0           ...                         1           82   \n",
       "1           ...                       NaN          NaN   \n",
       "2           ...                       NaN          NaN   \n",
       "3           ...                       NaN          NaN   \n",
       "4           ...                       NaN          NaN   \n",
       "\n",
       "  Потеря веса (от момента НАХТ до АДХТ) ИМТ (до АДХТ)  Общ белок (до АДХТ)  \\\n",
       "0                                     0          25,9                   66   \n",
       "1                                   NaN           NaN                  NaN   \n",
       "2                                   NaN           NaN                  NaN   \n",
       "3                                   NaN           NaN                  NaN   \n",
       "4                                   NaN           NaN                  NaN   \n",
       "\n",
       "   АЛТ (до АДХТ) АСТ (до АДХТ) ЛДГ (до АДХТ)  Диагноз (обновленный  \\\n",
       "0            100            46           559           Рак головки   \n",
       "1            NaN           NaN           NaN           Рак головки   \n",
       "2            NaN           NaN           NaN              Рак тела   \n",
       "3            NaN           NaN           NaN  Сочетанное поражение   \n",
       "4            NaN           NaN           NaN           Рак головки   \n",
       "\n",
       "  Гистология (обновленная)  \n",
       "0                      NaN  \n",
       "1                      NaN  \n",
       "2                      NaN  \n",
       "3                      NaN  \n",
       "4                      NaN  \n",
       "\n",
       "[5 rows x 108 columns]"
      ]
     },
     "execution_count": 4,
     "metadata": {},
     "output_type": "execute_result"
    }
   ],
   "source": [
    "data.head()"
   ]
  },
  {
   "cell_type": "markdown",
   "metadata": {},
   "source": [
    "Исследуем данные."
   ]
  },
  {
   "cell_type": "code",
   "execution_count": 31,
   "metadata": {
    "collapsed": false,
    "scrolled": true
   },
   "outputs": [
    {
     "name": "stdout",
     "output_type": "stream",
     "text": [
      "пациентов: 129\n",
      "признаков: 108\n"
     ]
    }
   ],
   "source": [
    "print \"пациентов: {0}\".format(data.shape[0])\n",
    "print \"признаков: {0}\".format(data.shape[1])"
   ]
  },
  {
   "cell_type": "markdown",
   "metadata": {},
   "source": [
    "Это тот набор фичей, который выделил врач, который предоставил данные. <br\\>\n",
    "Если я все правильно понимаю, нужно научиться выбирать правильную первую линию ХТ (\"Схема лечения (1 линия ХТ)\") <br>\n",
    "Характеристикой качества работы лечения видимо выступает время жизни пациентов (от наблюдения до момента закрытия карты), эти данные не обновлены. <br>\n",
    "Перевая линия ХТ прописана у 24 пациентов из 129, у остальных пропуски. <br>\n"
   ]
  },
  {
   "cell_type": "code",
   "execution_count": 32,
   "metadata": {
    "collapsed": true
   },
   "outputs": [],
   "source": [
    "main_features = [\n",
    "    \"Код\",\n",
    "    \"Возраст\",\n",
    "    \"Пол\",\n",
    "    \"Дата установления диагноза\",\n",
    "    \"Сопутствующая патология\",\n",
    "    \"Стадия\",\n",
    "    \"Желчеразгрузочная операция\",\n",
    "    \"Дата желчеразгрузочной операции\",\n",
    "    \"Гистология опухоли (до лечения)\",\n",
    "    \"ECOG (до лечения)\",\n",
    "    \"Вес (до лечения)\",\n",
    "    \"ИМТ (до лечения)\",\n",
    "    \"Общ белок (до лечения)\",\n",
    "    \"АЛТ (до лечения)\",\n",
    "    \"АСТ (до лечения)\",\n",
    "    \"ЛДГ (до лечения)\",\n",
    "    \"CA 19-9 (до лечения)\",\n",
    "    \"РЭA (до лечения)\",\n",
    "    \"Схема лечения (1 линия ХТ)\",\n",
    "    \"Дата начала (1 линия ХТ)\",\n",
    "    \"Диагноз (обновленный\"\n",
    "]"
   ]
  },
  {
   "cell_type": "code",
   "execution_count": 23,
   "metadata": {
    "collapsed": false
   },
   "outputs": [],
   "source": [
    "main_data = data[main_features]"
   ]
  },
  {
   "cell_type": "markdown",
   "metadata": {},
   "source": [
    "Вот так выглядит статистика по первой линии ХТ, т.е. два основных препарата, пропусков 82%"
   ]
  },
  {
   "cell_type": "code",
   "execution_count": 39,
   "metadata": {
    "collapsed": false
   },
   "outputs": [
    {
     "data": {
      "text/plain": [
       "Gemcitabin                                                                                                                                                     8\n",
       "FOLFIRINOX                                                                                                                                                     8\n",
       "FOLFOX                                                                                                                                                         2\n",
       "гемзар                                                                                                                                                         1\n",
       "Gemcitabin + cisplatin                                                                                                                                         1\n",
       "Gemcitabin + паклитаксел                                                                                                                                       1\n",
       "AF                                                                                                                                                             1\n",
       "Gemcitabin + Docetaxel                                                                                                                                         1\n",
       "Учитывая стадию заболевания, морфологическую структуру опухоли, радикальность выполненной операции - в настоящее время проведение химиотерапии не показано.    1\n",
       "Name: Схема лечения (1 линия ХТ), dtype: int64"
      ]
     },
     "execution_count": 39,
     "metadata": {},
     "output_type": "execute_result"
    }
   ],
   "source": [
    "main_data['Схема лечения (1 линия ХТ)'].value_counts()"
   ]
  },
  {
   "cell_type": "markdown",
   "metadata": {},
   "source": [
    "Пропусков в остальных данных"
   ]
  },
  {
   "cell_type": "code",
   "execution_count": 86,
   "metadata": {
    "collapsed": false
   },
   "outputs": [
    {
     "name": "stdout",
     "output_type": "stream",
     "text": [
      "Код:                             0.0%\n",
      "Возраст:                         0.046511627907%\n",
      "Пол:                             0.0%\n",
      "Дата установления диагноза:      0.062015503876%\n",
      "Сопутствующая патология:         0.232558139535%\n",
      "Стадия:                          0.0697674418605%\n",
      "Желчеразгрузочная операция:      0.62015503876%\n",
      "Дата желчеразгрузочной операции:  0.651162790698%\n",
      "Гистология опухоли (до лечения):  0.348837209302%\n",
      "ECOG (до лечения):                  0.093023255814%\n",
      "Вес (до лечения):                 0.077519379845%\n",
      "ИМТ (до лечения):                 0.093023255814%\n",
      "Общ белок (до лечения):           0.077519379845%\n",
      "АЛТ (до лечения):                 0.093023255814%\n",
      "АСТ (до лечения):                 0.093023255814%\n",
      "ЛДГ (до лечения):                 0.961240310078%\n",
      "CA 19-9 (до лечения):                0.759689922481%\n",
      "РЭA (до лечения):                  0.790697674419%\n",
      "Схема лечения (1 линия ХТ):        0.813953488372%\n",
      "Дата начала (1 линия ХТ):          0.813953488372%\n",
      "Диагноз (обновленный:             0.139534883721%\n"
     ]
    }
   ],
   "source": [
    "for col in main_data.columns:\n",
    "    print \"{0}: {1} {2}%\".format(col, (30 - (len(col) +  col.count(' '))/2)*\" \", 1 - float(main_data[col].count()) / main_data[col].size)"
   ]
  },
  {
   "cell_type": "code",
   "execution_count": 122,
   "metadata": {
    "collapsed": false
   },
   "outputs": [],
   "source": [
    "anti_mask = np.array(main_data['Схема лечения (1 линия ХТ)'].isnull())\n",
    "mask = np.logical_not(anti_mask)"
   ]
  },
  {
   "cell_type": "markdown",
   "metadata": {},
   "source": [
    "Вот так выглядят пропуски, в той части данных где целевая переменная не пропуск"
   ]
  },
  {
   "cell_type": "code",
   "execution_count": 129,
   "metadata": {
    "collapsed": false,
    "scrolled": true
   },
   "outputs": [
    {
     "name": "stdout",
     "output_type": "stream",
     "text": [
      "Код:                             0.0%\n",
      "Возраст:                         0.0%\n",
      "Пол:                             0.0%\n",
      "Дата установления диагноза:      0.0%\n",
      "Сопутствующая патология:         0.25%\n",
      "Стадия:                          0.0%\n",
      "Желчеразгрузочная операция:      0.5%\n",
      "Дата желчеразгрузочной операции:  0.583333333333%\n",
      "Гистология опухоли (до лечения):  0.166666666667%\n",
      "ECOG (до лечения):                  0.0%\n",
      "Вес (до лечения):                 0.0%\n",
      "ИМТ (до лечения):                 0.0%\n",
      "Общ белок (до лечения):           0.0%\n",
      "АЛТ (до лечения):                 0.0833333333333%\n",
      "АСТ (до лечения):                 0.0833333333333%\n",
      "ЛДГ (до лечения):                 0.833333333333%\n",
      "CA 19-9 (до лечения):                0.25%\n",
      "РЭA (до лечения):                  0.375%\n",
      "Схема лечения (1 линия ХТ):        0.0%\n",
      "Дата начала (1 линия ХТ):          0.0416666666667%\n",
      "Диагноз (обновленный:             0.166666666667%\n"
     ]
    }
   ],
   "source": [
    "for col in main_data[mask].columns:\n",
    "     print \"{0}: {1} {2}%\".format(col, (30 - (len(col) +  col.count(' '))/2)*\" \", 1 - float(main_data[mask][col].count()) / main_data[mask][col].size)"
   ]
  },
  {
   "cell_type": "code",
   "execution_count": null,
   "metadata": {
    "collapsed": true
   },
   "outputs": [],
   "source": []
  }
 ],
 "metadata": {
  "kernelspec": {
   "display_name": "Python 2",
   "language": "python",
   "name": "python2"
  },
  "language_info": {
   "codemirror_mode": {
    "name": "ipython",
    "version": 2
   },
   "file_extension": ".py",
   "mimetype": "text/x-python",
   "name": "python",
   "nbconvert_exporter": "python",
   "pygments_lexer": "ipython2",
   "version": "2.7.11"
  }
 },
 "nbformat": 4,
 "nbformat_minor": 0
}
